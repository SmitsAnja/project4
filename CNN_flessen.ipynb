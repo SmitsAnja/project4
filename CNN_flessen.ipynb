{
 "cells": [
  {
   "cell_type": "code",
   "execution_count": 1,
   "metadata": {},
   "outputs": [
    {
     "name": "stderr",
     "output_type": "stream",
     "text": [
      "/usr/local/lib/python3.7/dist-packages/skimage/io/manage_plugins.py:23: UserWarning: Your installed pillow version is < 7.1.0. Several security issues (CVE-2020-11538, CVE-2020-10379, CVE-2020-10994, CVE-2020-10177) have been fixed in pillow 7.1.0 or higher. We recommend to upgrade this library.\n",
      "  from .collection import imread_collection_wrapper\n"
     ]
    }
   ],
   "source": [
    "%matplotlib inline\n",
    "import os\n",
    "os.environ[\"KERAS_BACKEND\"] = \"tensorflow\"\n",
    "import numpy as np\n",
    "import pandas as pd\n",
    "import matplotlib.pyplot as plt\n",
    "\n",
    "\n",
    "from sklearn.model_selection import train_test_split\n",
    "from sklearn.metrics import classification_report\n",
    "from sklearn.metrics import confusion_matrix, accuracy_score\n",
    "from sklearn.preprocessing import OneHotEncoder\n",
    "from sklearn import preprocessing\n",
    "\n",
    "import matplotlib.image as mpimg\n",
    "from skimage.io import imread, imshow\n",
    "from skimage import data, color, io, filters, morphology,transform, exposure, feature, util\n",
    "from scipy import ndimage\n",
    "#import Tensorflow namespaces\n",
    "\n",
    "import tensorflow as tf\n",
    "from tensorflow.keras.models import Sequential\n",
    "from tensorflow.keras.layers import Activation\n",
    "from tensorflow.keras.optimizers import SGD\n",
    "from tensorflow.keras.layers import Dense, Dropout, Flatten, BatchNormalization\n",
    "from tensorflow.keras.layers import Conv2D, MaxPooling2D\n",
    "from tensorflow.keras import backend as K\n",
    "from tensorflow.keras.utils import to_categorical\n",
    "from tensorflow.keras.preprocessing import image\n",
    "\n",
    "from tensorflow.keras.applications.vgg19 import VGG19\n",
    "from tensorflow.keras.applications.vgg19 import preprocess_input, decode_predictions\n",
    "\n",
    "from tensorflow.keras.callbacks import EarlyStopping\n",
    "from tensorflow.keras.callbacks import ModelCheckpoint\n",
    "\n",
    "import os\n",
    "from PIL import Image"
   ]
  },
  {
   "cell_type": "code",
   "execution_count": 2,
   "metadata": {},
   "outputs": [],
   "source": [
    "import tensorflow as tf\n",
    "gpus = tf.config.experimental.list_physical_devices('GPU')\n",
    "if gpus:\n",
    "    try:\n",
    "        # Currently, memory growth needs to be the same across GPUs\n",
    "        for gpu in gpus:\n",
    "            tf.config.experimental.set_memory_growth(gpu, True)\n",
    "        logical_gpus = tf.config.experimental.list_logical_devices('GPU')\n",
    "        print(len(gpus), \"Physical GPUs,\", len(logical_gpus), \"Logical GPUs\")\n",
    "    except RuntimeError as e:\n",
    "        # Memory growth must be set before GPUs have been initialized\n",
    "        print(e)"
   ]
  },
  {
   "cell_type": "code",
   "execution_count": 3,
   "metadata": {},
   "outputs": [],
   "source": [
    "# Read and preprocess images\n",
    "# change accordingly with how many images you have total train + test\n",
    "image_size = 100\n",
    "nr_train_images = 900\n",
    "nr_test_images = 100\n",
    "can_train_images = []\n",
    "can_test_images = []\n",
    "back_train_images = []\n",
    "back_test_images = []\n",
    "y_can_train = []\n",
    "y_back_train = []\n",
    "y_can_test = []\n",
    "y_back_test =[]\n",
    "\n",
    "# read train_images 1\n",
    "path = './Datasets/kaggle/All_bottles'\n",
    "valid_images = [\".jpg\",\".gif\",\".png\"]\n",
    "\n",
    "for f in os.listdir(path)[:nr_train_images]:\n",
    "    ext = os.path.splitext(f)[1]\n",
    "    if ext.lower() not in valid_images:\n",
    "        continue\n",
    "    im = imread(os.path.join(path,f)) \n",
    "    im = transform.resize(im,(image_size,image_size),mode='constant',anti_aliasing=True)\n",
    "    can_train_images.append(im)\n",
    "    y_can_train.append(1)\n",
    "    \n",
    "    \n",
    "# read test_images 1\n",
    "\n",
    "path = './Datasets/kaggle/All_bottles'\n",
    "valid_images = [\".jpg\",\".gif\",\".png\"]\n",
    "\n",
    "for f in os.listdir(path)[:nr_test_images]:\n",
    "    ext = os.path.splitext(f)[1]\n",
    "    if ext.lower() not in valid_images:\n",
    "        continue\n",
    "    im = imread(os.path.join(path,f))\n",
    "    im = transform.resize(im,(image_size,image_size),mode='constant',anti_aliasing=True)\n",
    "    can_test_images.append(im)\n",
    "    y_can_test.append(1)\n",
    "    \n",
    "    \n",
    "# read background train_images 1\n",
    "path = './Datasets/CBCL streetscenes'\n",
    "valid_images = [\".jpg\",\".gif\",\".png\"]\n",
    "\n",
    "for f in os.listdir(path)[:nr_train_images]:\n",
    "    ext = os.path.splitext(f)[1]\n",
    "    if ext.lower() not in valid_images:\n",
    "        continue\n",
    "    im = imread(os.path.join(path,f)) \n",
    "    im = transform.resize(im,(image_size,image_size),mode='constant',anti_aliasing=True)\n",
    "    back_train_images.append(im)\n",
    "    y_back_train.append(0)\n",
    "    \n",
    "\n",
    "# read background test_images 1\n",
    "path = './Datasets/CBCL streetscenes'\n",
    "valid_images = [\".jpg\",\".gif\",\".png\"]\n",
    "\n",
    "for f in os.listdir(path)[:nr_test_images]:\n",
    "    ext = os.path.splitext(f)[1]\n",
    "    if ext.lower() not in valid_images:\n",
    "        continue\n",
    "    im = imread(os.path.join(path,f)) \n",
    "    im = transform.resize(im,(image_size,image_size),mode='constant',anti_aliasing=True)\n",
    "    back_test_images.append(im)\n",
    "    y_back_test.append(0)\n",
    "    "
   ]
  },
  {
   "cell_type": "code",
   "execution_count": 4,
   "metadata": {},
   "outputs": [
    {
     "data": {
      "text/plain": [
       "<matplotlib.image.AxesImage at 0x7f40f4ac7898>"
      ]
     },
     "execution_count": 4,
     "metadata": {},
     "output_type": "execute_result"
    },
    {
     "data": {
      "image/png": "[encoded data removed]",
      "text/plain": [
       "<Figure size 432x288 with 1 Axes>"
      ]
     },
     "metadata": {
      "needs_background": "light"
     },
     "output_type": "display_data"
    }
   ],
   "source": [
    "imshow(can_train_images[0])"
   ]
  },
  {
   "cell_type": "code",
   "execution_count": 5,
   "metadata": {},
   "outputs": [
    {
     "data": {
      "text/plain": [
       "<matplotlib.image.AxesImage at 0x7f40f4a59cc0>"
      ]
     },
     "execution_count": 5,
     "metadata": {},
     "output_type": "execute_result"
    },
    {
     "data": {
      "image/png": "[encoded data removed]",
      "text/plain": [
       "<Figure size 432x288 with 1 Axes>"
      ]
     },
     "metadata": {
      "needs_background": "light"
     },
     "output_type": "display_data"
    }
   ],
   "source": [
    "imshow(back_train_images[0])"
   ]
  },
  {
   "cell_type": "code",
   "execution_count": 6,
   "metadata": {},
   "outputs": [
    {
     "name": "stdout",
     "output_type": "stream",
     "text": [
      "(1800, 100, 100, 3)\n",
      "(200, 100, 100, 3)\n",
      "(1800,)\n",
      "(200,)\n"
     ]
    }
   ],
   "source": [
    "# Create a training set and test set. Make sure the datasets are randomized. \n",
    "from sklearn.utils import shuffle\n",
    "import random\n",
    "\n",
    "X_train = can_train_images + back_train_images\n",
    "X_test = can_test_images + back_test_images\n",
    "y_train = y_can_train + y_back_train\n",
    "y_test = y_can_test + y_back_test\n",
    "\n",
    "c = list(zip(X_train, y_train))\n",
    "\n",
    "random.shuffle(c)\n",
    "\n",
    "X_train, y_train = zip(*c)\n",
    "\n",
    "X_train = np.array(X_train)\n",
    "X_test = np.array(X_test)\n",
    "y_train = np.array(y_train)\n",
    "y_test = np.array(y_test)\n",
    "\n",
    "print(X_train.shape)\n",
    "print(X_test.shape)\n",
    "print(y_train.shape)\n",
    "print(y_test.shape)"
   ]
  },
  {
   "cell_type": "code",
   "execution_count": 7,
   "metadata": {},
   "outputs": [],
   "source": [
    "X_train = X_train.astype('float32')\n",
    "X_test = X_test.astype('float32')\n",
    "y_train=to_categorical(y_train,num_classes=2)"
   ]
  },
  {
   "cell_type": "code",
   "execution_count": 9,
   "metadata": {},
   "outputs": [],
   "source": [
    "class_weight = {0:1, 1:1, 2:1}\n",
    "mc = ModelCheckpoint('best_model.h5', monitor='val_accuracy', mode='max')\n"
   ]
  },
  {
   "cell_type": "code",
   "execution_count": 9,
   "metadata": {},
   "outputs": [
    {
     "name": "stdout",
     "output_type": "stream",
     "text": [
      "Train on 1440 samples, validate on 360 samples\n",
      "Epoch 1/50\n",
      "1440/1440 [==============================] - 8s 6ms/sample - loss: 0.6514 - accuracy: 0.5875 - val_loss: 0.6158 - val_accuracy: 0.7722\n",
      "Epoch 2/50\n",
      "1440/1440 [==============================] - 7s 5ms/sample - loss: 0.5152 - accuracy: 0.7660 - val_loss: 0.6792 - val_accuracy: 0.5389\n",
      "Epoch 3/50\n",
      "1440/1440 [==============================] - 7s 5ms/sample - loss: 0.3882 - accuracy: 0.8594 - val_loss: 0.5544 - val_accuracy: 0.7083\n",
      "Epoch 4/50\n",
      "1440/1440 [==============================] - 7s 5ms/sample - loss: 0.2734 - accuracy: 0.9080 - val_loss: 0.4644 - val_accuracy: 0.8083\n",
      "Epoch 5/50\n",
      "1440/1440 [==============================] - 7s 5ms/sample - loss: 0.2015 - accuracy: 0.9229 - val_loss: 0.4495 - val_accuracy: 0.7917\n",
      "Epoch 6/50\n",
      "1440/1440 [==============================] - 7s 5ms/sample - loss: 0.1574 - accuracy: 0.9382 - val_loss: 0.3703 - val_accuracy: 0.8583\n",
      "Epoch 7/50\n",
      "1440/1440 [==============================] - 7s 5ms/sample - loss: 0.1332 - accuracy: 0.9590 - val_loss: 0.4376 - val_accuracy: 0.7792\n",
      "Epoch 8/50\n",
      "1440/1440 [==============================] - 7s 5ms/sample - loss: 0.0977 - accuracy: 0.9778 - val_loss: 0.4656 - val_accuracy: 0.7653\n",
      "Epoch 9/50\n",
      "1440/1440 [==============================] - 7s 5ms/sample - loss: 0.0865 - accuracy: 0.9809 - val_loss: 0.3571 - val_accuracy: 0.8542\n",
      "Epoch 10/50\n",
      "1440/1440 [==============================] - 7s 5ms/sample - loss: 0.0775 - accuracy: 0.9812 - val_loss: 0.2511 - val_accuracy: 0.8972\n",
      "Epoch 11/50\n",
      "1440/1440 [==============================] - 7s 5ms/sample - loss: 0.0681 - accuracy: 0.9875 - val_loss: 0.2239 - val_accuracy: 0.9111\n",
      "Epoch 12/50\n",
      "1440/1440 [==============================] - 7s 5ms/sample - loss: 0.0589 - accuracy: 0.9872 - val_loss: 0.2714 - val_accuracy: 0.8903\n",
      "Epoch 13/50\n",
      "1440/1440 [==============================] - 7s 5ms/sample - loss: 0.0533 - accuracy: 0.9896 - val_loss: 0.2425 - val_accuracy: 0.9028\n",
      "Epoch 14/50\n",
      "1440/1440 [==============================] - 7s 5ms/sample - loss: 0.0504 - accuracy: 0.9910 - val_loss: 0.2842 - val_accuracy: 0.8875\n",
      "Epoch 15/50\n",
      "1440/1440 [==============================] - 7s 5ms/sample - loss: 0.0501 - accuracy: 0.9910 - val_loss: 0.2408 - val_accuracy: 0.9056\n",
      "Epoch 16/50\n",
      "1440/1440 [==============================] - 7s 5ms/sample - loss: 0.0436 - accuracy: 0.9906 - val_loss: 0.2324 - val_accuracy: 0.9097\n",
      "Epoch 00016: early stopping\n"
     ]
    }
   ],
   "source": [
    "# Neural network\n",
    "#-----------------------------------------------\n",
    "#-----------------------------------------------\n",
    "batch_size = 128 # \n",
    "epochs = 50 # \n",
    "steps = None\n",
    "#-----------------------------------------------\n",
    "#-----------------------------------------------\n",
    "num_classes = 2\n",
    "img_rows, img_cols = image_size, image_size\n",
    "input_shape = (img_rows, img_cols,3)# 3 duidt het aantal kleurkanalen aan\n",
    "\n",
    "adam = tf.keras.optimizers.Adam(learning_rate=0.0001)\n",
    "# Model\n",
    "model = Sequential()\n",
    "#-----------------------------------------------\n",
    "#-----------------------------------------------\n",
    "model.add(Conv2D(32, kernel_size=(3, 3), activation='relu',input_shape=input_shape)) \n",
    "#-----------------------------------------------\n",
    "#-----------------------------------------------\n",
    "model.add(MaxPooling2D(pool_size=(2, 2)))\n",
    "#-----------------------------------------------\n",
    "#-----------------------------------------------\n",
    "model.add(Dropout(0.3)) # Value between 0 and 1 \n",
    "# model.add(BatchNormalisation())# Altijd achter de dropout\n",
    "#-----------------------------------------------\n",
    "model.add(Conv2D(100, (3, 3), activation='relu')) \n",
    "#-----------------------------------------------\n",
    "#-----------------------------------------------\n",
    "model.add(MaxPooling2D(pool_size=(2, 2)))\n",
    "#-----------------------------------------------\n",
    "#-----------------------------------------------\n",
    "model.add(Dropout(0.3)) # Value between 0 and 1 \n",
    "#-----------------------------------------------\n",
    "#-----------------------------------------------\n",
    "model.add(Flatten()) # Zeer belangrijk: van 2D naar 1D\n",
    "model.add(Dense(50, activation='relu')) \n",
    "#-----------------------------------------------\n",
    "#-----------------------------------------------\n",
    "model.add(Dropout(0.3)) # Value between 0 and 1 \n",
    "#-----------------------------------------------\n",
    "#-----------------------------------------------\n",
    "model.add(Dense(num_classes, activation='sigmoid'))\n",
    "\n",
    "model.compile(loss='binary_crossentropy',optimizer=adam,metrics=['accuracy'])\n",
    "\n",
    "earlystopper = EarlyStopping(patience=5, verbose=1)\n",
    "checkpointer = ModelCheckpoint('NN_bottles.h5', verbose=1, save_best_only=True)\n",
    "\n",
    "\n",
    "# Trainen van het CNN\n",
    "history = model.fit(X_train, y_train,batch_size=batch_size, callbacks=[earlystopper, mc],\n",
    "                    class_weight=class_weight, epochs=epochs,  validation_split=0.2, verbose=1, \n",
    "                    steps_per_epoch = steps)"
   ]
  },
  {
   "cell_type": "code",
   "execution_count": 10,
   "metadata": {},
   "outputs": [
    {
     "data": {
      "image/png": "[encoded data removed]",
      "text/plain": [
       "<Figure size 432x288 with 1 Axes>"
      ]
     },
     "metadata": {
      "needs_background": "light"
     },
     "output_type": "display_data"
    },
    {
     "data": {
      "image/png": "[encoded data removed]",
      "text/plain": [
       "<Figure size 432x288 with 1 Axes>"
      ]
     },
     "metadata": {
      "needs_background": "light"
     },
     "output_type": "display_data"
    }
   ],
   "source": [
    "# Plot of the training history\n",
    "\n",
    "# Accuray \n",
    "plt.plot(history.history['accuracy'],'r')\n",
    "plt.plot(history.history['val_accuracy'],'b')\n",
    "plt.title('model accuracy')\n",
    "plt.ylabel('accuracy')\n",
    "plt.xlabel('epoch')\n",
    "plt.legend(['train', 'test'], loc='upper left')\n",
    "plt.show()\n",
    "# Loss \n",
    "plt.plot(history.history['loss'],'r')\n",
    "plt.plot(history.history['val_loss'],'b')\n",
    "\n",
    "plt.title('model loss')\n",
    "plt.ylabel('loss')\n",
    "plt.xlabel('epoch')\n",
    "plt.legend(['train', 'test'], loc='upper left')\n",
    "plt.show()"
   ]
  },
  {
   "cell_type": "code",
   "execution_count": 11,
   "metadata": {},
   "outputs": [
    {
     "name": "stdout",
     "output_type": "stream",
     "text": [
      "\n",
      "\n",
      "              precision    recall  f1-score   support\n",
      "\n",
      "           0       1.00      0.83      0.91       100\n",
      "           1       0.85      1.00      0.92       100\n",
      "\n",
      "    accuracy                           0.92       200\n",
      "   macro avg       0.93      0.92      0.91       200\n",
      "weighted avg       0.93      0.92      0.91       200\n",
      "\n",
      "[[ 83  17]\n",
      " [  0 100]]\n",
      "91.5\n"
     ]
    }
   ],
   "source": [
    "# accuracy\n",
    "y_pred = model.predict_classes(X_test)\n",
    "print('\\n')\n",
    "print(classification_report(y_test, y_pred))\n",
    "cf = confusion_matrix(y_test, y_pred)\n",
    "\n",
    "print(cf)\n",
    "print(accuracy_score(y_test, y_pred)*100)"
   ]
  },
  {
   "cell_type": "code",
   "execution_count": 12,
   "metadata": {},
   "outputs": [
    {
     "name": "stdout",
     "output_type": "stream",
     "text": [
      "WARNING:tensorflow:From /home/sslab/anaconda3/lib/python3.7/site-packages/tensorflow_core/python/ops/resource_variable_ops.py:1781: calling BaseResourceVariable.__init__ (from tensorflow.python.ops.resource_variable_ops) with constraint is deprecated and will be removed in a future version.\n",
      "Instructions for updating:\n",
      "If using Keras pass *_constraint arguments to layers.\n",
      "INFO:tensorflow:Assets written to: ./models/bottlesV1.tflearn/assets\n"
     ]
    }
   ],
   "source": [
    "model.save('./models/bottlesV1.tflearn')\n"
   ]
  },
  {
   "cell_type": "code",
   "execution_count": 4,
   "metadata": {},
   "outputs": [
    {
     "name": "stdout",
     "output_type": "stream",
     "text": [
      "WARNING:tensorflow:From /home/pi/.local/lib/python3.7/site-packages/tensorflow_core/python/ops/resource_variable_ops.py:1781: calling BaseResourceVariable.__init__ (from tensorflow.python.ops.resource_variable_ops) with constraint is deprecated and will be removed in a future version.\n",
      "Instructions for updating:\n",
      "If using Keras pass *_constraint arguments to layers.\n"
     ]
    }
   ],
   "source": [
    "#model.load('./models/blikjesV1.tflearn')\n",
    "model = tf.keras.models.load_model('./models/blikjesandbackV1.tflearn')\n",
    "\n"
   ]
  },
  {
   "cell_type": "code",
   "execution_count": 7,
   "metadata": {},
   "outputs": [],
   "source": [
    "X_train = X_train.astype('float32')\n",
    "X_test = X_test.astype('float32')\n",
    "y_train=to_categorical(y_train,num_classes=2)"
   ]
  },
  {
   "cell_type": "code",
   "execution_count": 10,
   "metadata": {},
   "outputs": [
    {
     "name": "stdout",
     "output_type": "stream",
     "text": [
      "Epoch 1/50\n",
      "13/14 [==========================>...] - ETA: 0s - loss: 0.8636 - accuracy: 0.5771WARNING:tensorflow:Early stopping conditioned on metric `val_loss` which is not available. Available metrics are: loss,accuracy\n",
      "14/14 [==============================] - 13s 906ms/step - loss: 0.8391 - accuracy: 0.6014\n",
      "Epoch 2/50\n",
      "13/14 [==========================>...] - ETA: 0s - loss: 0.2923 - accuracy: 0.8986WARNING:tensorflow:Early stopping conditioned on metric `val_loss` which is not available. Available metrics are: loss,accuracy\n",
      "14/14 [==============================] - 12s 873ms/step - loss: 0.2884 - accuracy: 0.8986\n",
      "Epoch 3/50\n",
      "13/14 [==========================>...] - ETA: 0s - loss: 0.1325 - accuracy: 0.9540WARNING:tensorflow:Early stopping conditioned on metric `val_loss` which is not available. Available metrics are: loss,accuracy\n",
      "14/14 [==============================] - 12s 881ms/step - loss: 0.1302 - accuracy: 0.9548\n",
      "Epoch 4/50\n",
      "13/14 [==========================>...] - ETA: 0s - loss: 0.0958 - accuracy: 0.9712WARNING:tensorflow:Early stopping conditioned on metric `val_loss` which is not available. Available metrics are: loss,accuracy\n",
      "14/14 [==============================] - 13s 920ms/step - loss: 0.0909 - accuracy: 0.9727\n",
      "Epoch 5/50\n",
      "13/14 [==========================>...] - ETA: 0s - loss: 0.0594 - accuracy: 0.9828WARNING:tensorflow:Early stopping conditioned on metric `val_loss` which is not available. Available metrics are: loss,accuracy\n",
      "14/14 [==============================] - 12s 868ms/step - loss: 0.0576 - accuracy: 0.9836\n",
      "Epoch 6/50\n",
      "13/14 [==========================>...] - ETA: 0s - loss: 0.0478 - accuracy: 0.9877WARNING:tensorflow:Early stopping conditioned on metric `val_loss` which is not available. Available metrics are: loss,accuracy\n",
      "14/14 [==============================] - 11s 805ms/step - loss: 0.0476 - accuracy: 0.9868\n",
      "Epoch 7/50\n",
      "13/14 [==========================>...] - ETA: 0s - loss: 0.0439 - accuracy: 0.9922WARNING:tensorflow:Early stopping conditioned on metric `val_loss` which is not available. Available metrics are: loss,accuracy\n",
      "14/14 [==============================] - 12s 854ms/step - loss: 0.0439 - accuracy: 0.9922\n",
      "Epoch 8/50\n",
      "13/14 [==========================>...] - ETA: 0s - loss: 0.0292 - accuracy: 0.9896WARNING:tensorflow:Early stopping conditioned on metric `val_loss` which is not available. Available metrics are: loss,accuracy\n",
      "14/14 [==============================] - 12s 853ms/step - loss: 0.0286 - accuracy: 0.9901\n",
      "Epoch 9/50\n",
      "13/14 [==========================>...] - ETA: 0s - loss: 0.0370 - accuracy: 0.9895WARNING:tensorflow:Early stopping conditioned on metric `val_loss` which is not available. Available metrics are: loss,accuracy\n",
      "14/14 [==============================] - 13s 948ms/step - loss: 0.0353 - accuracy: 0.9902\n",
      "Epoch 10/50\n",
      "13/14 [==========================>...] - ETA: 0s - loss: 0.0344 - accuracy: 0.9906WARNING:tensorflow:Early stopping conditioned on metric `val_loss` which is not available. Available metrics are: loss,accuracy\n",
      "14/14 [==============================] - 12s 876ms/step - loss: 0.0332 - accuracy: 0.9904\n",
      "Epoch 11/50\n",
      "13/14 [==========================>...] - ETA: 0s - loss: 0.0219 - accuracy: 0.9938WARNING:tensorflow:Early stopping conditioned on metric `val_loss` which is not available. Available metrics are: loss,accuracy\n",
      "14/14 [==============================] - 12s 872ms/step - loss: 0.0211 - accuracy: 0.9943\n",
      "Epoch 12/50\n",
      "13/14 [==========================>...] - ETA: 0s - loss: 0.0177 - accuracy: 0.9948WARNING:tensorflow:Early stopping conditioned on metric `val_loss` which is not available. Available metrics are: loss,accuracy\n",
      "14/14 [==============================] - 12s 873ms/step - loss: 0.0182 - accuracy: 0.9946\n",
      "Epoch 13/50\n",
      "13/14 [==========================>...] - ETA: 0s - loss: 0.0155 - accuracy: 0.9951WARNING:tensorflow:Early stopping conditioned on metric `val_loss` which is not available. Available metrics are: loss,accuracy\n",
      "14/14 [==============================] - 12s 866ms/step - loss: 0.0150 - accuracy: 0.9955\n",
      "Epoch 14/50\n",
      "13/14 [==========================>...] - ETA: 0s - loss: 0.0162 - accuracy: 0.9961WARNING:tensorflow:Early stopping conditioned on metric `val_loss` which is not available. Available metrics are: loss,accuracy\n",
      "14/14 [==============================] - 12s 863ms/step - loss: 0.0165 - accuracy: 0.9958\n",
      "Epoch 15/50\n",
      "13/14 [==========================>...] - ETA: 0s - loss: 0.0292 - accuracy: 0.9898WARNING:tensorflow:Early stopping conditioned on metric `val_loss` which is not available. Available metrics are: loss,accuracy\n",
      "14/14 [==============================] - 12s 851ms/step - loss: 0.0278 - accuracy: 0.9898\n",
      "Epoch 16/50\n",
      "13/14 [==========================>...] - ETA: 0s - loss: 0.0262 - accuracy: 0.9926WARNING:tensorflow:Early stopping conditioned on metric `val_loss` which is not available. Available metrics are: loss,accuracy\n",
      "14/14 [==============================] - 12s 875ms/step - loss: 0.0248 - accuracy: 0.9931\n",
      "Epoch 17/50\n",
      "13/14 [==========================>...] - ETA: 0s - loss: 0.0150 - accuracy: 0.9952WARNING:tensorflow:Early stopping conditioned on metric `val_loss` which is not available. Available metrics are: loss,accuracy\n",
      "14/14 [==============================] - 13s 923ms/step - loss: 0.0144 - accuracy: 0.9955\n",
      "Epoch 18/50\n",
      "13/14 [==========================>...] - ETA: 0s - loss: 0.0105 - accuracy: 0.9968WARNING:tensorflow:Early stopping conditioned on metric `val_loss` which is not available. Available metrics are: loss,accuracy\n",
      "14/14 [==============================] - 12s 823ms/step - loss: 0.0099 - accuracy: 0.9968\n",
      "Epoch 19/50\n",
      "13/14 [==========================>...] - ETA: 0s - loss: 0.0358 - accuracy: 0.9904WARNING:tensorflow:Early stopping conditioned on metric `val_loss` which is not available. Available metrics are: loss,accuracy\n",
      "14/14 [==============================] - 13s 924ms/step - loss: 0.0377 - accuracy: 0.9905\n",
      "Epoch 20/50\n",
      "13/14 [==========================>...] - ETA: 0s - loss: 0.0132 - accuracy: 0.9954WARNING:tensorflow:Early stopping conditioned on metric `val_loss` which is not available. Available metrics are: loss,accuracy\n",
      "14/14 [==============================] - 11s 809ms/step - loss: 0.0129 - accuracy: 0.9958\n",
      "Epoch 21/50\n",
      "13/14 [==========================>...] - ETA: 0s - loss: 0.0155 - accuracy: 0.9951WARNING:tensorflow:Early stopping conditioned on metric `val_loss` which is not available. Available metrics are: loss,accuracy\n",
      "14/14 [==============================] - 12s 867ms/step - loss: 0.0181 - accuracy: 0.9943\n",
      "Epoch 22/50\n",
      "13/14 [==========================>...] - ETA: 0s - loss: 0.0125 - accuracy: 0.9984WARNING:tensorflow:Early stopping conditioned on metric `val_loss` which is not available. Available metrics are: loss,accuracy\n",
      "14/14 [==============================] - 12s 874ms/step - loss: 0.0117 - accuracy: 0.9985\n",
      "Epoch 23/50\n",
      "13/14 [==========================>...] - ETA: 0s - loss: 0.0320 - accuracy: 0.9916WARNING:tensorflow:Early stopping conditioned on metric `val_loss` which is not available. Available metrics are: loss,accuracy\n",
      "14/14 [==============================] - 13s 921ms/step - loss: 0.0300 - accuracy: 0.9922\n",
      "Epoch 24/50\n",
      "13/14 [==========================>...] - ETA: 0s - loss: 0.0209 - accuracy: 0.9931WARNING:tensorflow:Early stopping conditioned on metric `val_loss` which is not available. Available metrics are: loss,accuracy\n",
      "14/14 [==============================] - 13s 938ms/step - loss: 0.0207 - accuracy: 0.9930\n",
      "Epoch 25/50\n",
      "13/14 [==========================>...] - ETA: 0s - loss: 0.0107 - accuracy: 0.9971WARNING:tensorflow:Early stopping conditioned on metric `val_loss` which is not available. Available metrics are: loss,accuracy\n",
      "14/14 [==============================] - 12s 880ms/step - loss: 0.0104 - accuracy: 0.9973\n",
      "Epoch 26/50\n",
      "13/14 [==========================>...] - ETA: 0s - loss: 0.0133 - accuracy: 0.9961WARNING:tensorflow:Early stopping conditioned on metric `val_loss` which is not available. Available metrics are: loss,accuracy\n",
      "14/14 [==============================] - 13s 894ms/step - loss: 0.0125 - accuracy: 0.9964\n",
      "Epoch 27/50\n",
      "13/14 [==========================>...] - ETA: 0s - loss: 0.0286 - accuracy: 0.9909WARNING:tensorflow:Early stopping conditioned on metric `val_loss` which is not available. Available metrics are: loss,accuracy\n",
      "14/14 [==============================] - 12s 887ms/step - loss: 0.0285 - accuracy: 0.9910\n",
      "Epoch 28/50\n",
      "13/14 [==========================>...] - ETA: 0s - loss: 0.0162 - accuracy: 0.9955WARNING:tensorflow:Early stopping conditioned on metric `val_loss` which is not available. Available metrics are: loss,accuracy\n",
      "14/14 [==============================] - 12s 881ms/step - loss: 0.0154 - accuracy: 0.9958\n",
      "Epoch 29/50\n",
      "13/14 [==========================>...] - ETA: 0s - loss: 0.0184 - accuracy: 0.9958WARNING:tensorflow:Early stopping conditioned on metric `val_loss` which is not available. Available metrics are: loss,accuracy\n",
      "14/14 [==============================] - 12s 867ms/step - loss: 0.0186 - accuracy: 0.9955\n",
      "Epoch 30/50\n",
      "13/14 [==========================>...] - ETA: 0s - loss: 0.0086 - accuracy: 0.9977WARNING:tensorflow:Early stopping conditioned on metric `val_loss` which is not available. Available metrics are: loss,accuracy\n",
      "14/14 [==============================] - 12s 874ms/step - loss: 0.0084 - accuracy: 0.9979\n",
      "Epoch 31/50\n",
      "13/14 [==========================>...] - ETA: 0s - loss: 0.0133 - accuracy: 0.9964WARNING:tensorflow:Early stopping conditioned on metric `val_loss` which is not available. Available metrics are: loss,accuracy\n",
      "14/14 [==============================] - 12s 877ms/step - loss: 0.0149 - accuracy: 0.9961\n",
      "Epoch 32/50\n",
      "13/14 [==========================>...] - ETA: 0s - loss: 0.0081 - accuracy: 0.9974WARNING:tensorflow:Early stopping conditioned on metric `val_loss` which is not available. Available metrics are: loss,accuracy\n",
      "14/14 [==============================] - 13s 908ms/step - loss: 0.0088 - accuracy: 0.9970\n",
      "Epoch 33/50\n",
      "13/14 [==========================>...] - ETA: 0s - loss: 0.0055 - accuracy: 0.9977WARNING:tensorflow:Early stopping conditioned on metric `val_loss` which is not available. Available metrics are: loss,accuracy\n",
      "14/14 [==============================] - 12s 887ms/step - loss: 0.0051 - accuracy: 0.9979\n",
      "Epoch 34/50\n",
      "13/14 [==========================>...] - ETA: 0s - loss: 0.0193 - accuracy: 0.9946WARNING:tensorflow:Early stopping conditioned on metric `val_loss` which is not available. Available metrics are: loss,accuracy\n",
      "14/14 [==============================] - 13s 937ms/step - loss: 0.0182 - accuracy: 0.9950\n",
      "Epoch 35/50\n",
      "13/14 [==========================>...] - ETA: 0s - loss: 0.0321 - accuracy: 0.9900WARNING:tensorflow:Early stopping conditioned on metric `val_loss` which is not available. Available metrics are: loss,accuracy\n",
      "14/14 [==============================] - 12s 882ms/step - loss: 0.0313 - accuracy: 0.9901\n",
      "Epoch 36/50\n",
      "13/14 [==========================>...] - ETA: 0s - loss: 0.0123 - accuracy: 0.9965WARNING:tensorflow:Early stopping conditioned on metric `val_loss` which is not available. Available metrics are: loss,accuracy\n",
      "14/14 [==============================] - 11s 820ms/step - loss: 0.0127 - accuracy: 0.9961\n",
      "Epoch 37/50\n",
      "13/14 [==========================>...] - ETA: 0s - loss: 0.0085 - accuracy: 0.9971WARNING:tensorflow:Early stopping conditioned on metric `val_loss` which is not available. Available metrics are: loss,accuracy\n",
      "14/14 [==============================] - 12s 881ms/step - loss: 0.0084 - accuracy: 0.9967\n",
      "Epoch 38/50\n",
      "13/14 [==========================>...] - ETA: 0s - loss: 0.0128 - accuracy: 0.9952WARNING:tensorflow:Early stopping conditioned on metric `val_loss` which is not available. Available metrics are: loss,accuracy\n",
      "14/14 [==============================] - 14s 987ms/step - loss: 0.0120 - accuracy: 0.9955\n",
      "Epoch 39/50\n",
      "13/14 [==========================>...] - ETA: 0s - loss: 0.0075 - accuracy: 0.9974WARNING:tensorflow:Early stopping conditioned on metric `val_loss` which is not available. Available metrics are: loss,accuracy\n",
      "14/14 [==============================] - 12s 889ms/step - loss: 0.0070 - accuracy: 0.9976\n",
      "Epoch 40/50\n",
      "13/14 [==========================>...] - ETA: 0s - loss: 0.0100 - accuracy: 0.9974WARNING:tensorflow:Early stopping conditioned on metric `val_loss` which is not available. Available metrics are: loss,accuracy\n",
      "14/14 [==============================] - 13s 914ms/step - loss: 0.0094 - accuracy: 0.9976\n",
      "Epoch 41/50\n",
      "13/14 [==========================>...] - ETA: 0s - loss: 0.0092 - accuracy: 0.9975WARNING:tensorflow:Early stopping conditioned on metric `val_loss` which is not available. Available metrics are: loss,accuracy\n",
      "14/14 [==============================] - 11s 814ms/step - loss: 0.0090 - accuracy: 0.9977\n",
      "Epoch 42/50\n",
      "13/14 [==========================>...] - ETA: 0s - loss: 0.0076 - accuracy: 0.9979WARNING:tensorflow:Early stopping conditioned on metric `val_loss` which is not available. Available metrics are: loss,accuracy\n",
      "14/14 [==============================] - 13s 952ms/step - loss: 0.0078 - accuracy: 0.9975\n",
      "Epoch 43/50\n",
      "13/14 [==========================>...] - ETA: 0s - loss: 0.0079 - accuracy: 0.9987WARNING:tensorflow:Early stopping conditioned on metric `val_loss` which is not available. Available metrics are: loss,accuracy\n",
      "14/14 [==============================] - 12s 865ms/step - loss: 0.0074 - accuracy: 0.9988\n",
      "Epoch 44/50\n",
      "13/14 [==========================>...] - ETA: 0s - loss: 0.0054 - accuracy: 0.9971WARNING:tensorflow:Early stopping conditioned on metric `val_loss` which is not available. Available metrics are: loss,accuracy\n",
      "14/14 [==============================] - 12s 863ms/step - loss: 0.0052 - accuracy: 0.9973\n",
      "Epoch 45/50\n",
      "13/14 [==========================>...] - ETA: 0s - loss: 0.0064 - accuracy: 0.9977WARNING:tensorflow:Early stopping conditioned on metric `val_loss` which is not available. Available metrics are: loss,accuracy\n",
      "14/14 [==============================] - 12s 862ms/step - loss: 0.0114 - accuracy: 0.9967\n",
      "Epoch 46/50\n",
      "13/14 [==========================>...] - ETA: 0s - loss: 0.0181 - accuracy: 0.9968WARNING:tensorflow:Early stopping conditioned on metric `val_loss` which is not available. Available metrics are: loss,accuracy\n",
      "14/14 [==============================] - 12s 856ms/step - loss: 0.0169 - accuracy: 0.9970\n",
      "Epoch 47/50\n",
      "13/14 [==========================>...] - ETA: 0s - loss: 0.0059 - accuracy: 0.9988WARNING:tensorflow:Early stopping conditioned on metric `val_loss` which is not available. Available metrics are: loss,accuracy\n",
      "14/14 [==============================] - 13s 922ms/step - loss: 0.0057 - accuracy: 0.9989\n",
      "Epoch 48/50\n",
      "13/14 [==========================>...] - ETA: 0s - loss: 0.0079 - accuracy: 0.9982WARNING:tensorflow:Early stopping conditioned on metric `val_loss` which is not available. Available metrics are: loss,accuracy\n",
      "14/14 [==============================] - 11s 818ms/step - loss: 0.0078 - accuracy: 0.9981\n",
      "Epoch 49/50\n",
      "13/14 [==========================>...] - ETA: 0s - loss: 0.0090 - accuracy: 0.9968WARNING:tensorflow:Early stopping conditioned on metric `val_loss` which is not available. Available metrics are: loss,accuracy\n",
      "14/14 [==============================] - 12s 871ms/step - loss: 0.0086 - accuracy: 0.9970\n",
      "Epoch 50/50\n",
      "13/14 [==========================>...] - ETA: 0s - loss: 0.0065 - accuracy: 0.9982WARNING:tensorflow:Early stopping conditioned on metric `val_loss` which is not available. Available metrics are: loss,accuracy\n",
      "14/14 [==============================] - 13s 924ms/step - loss: 0.0061 - accuracy: 0.9983\n"
     ]
    }
   ],
   "source": [
    "# Neural network\n",
    "#-----------------------------------------------\n",
    "#-----------------------------------------------\n",
    "batch_size = 128 # \n",
    "epochs = 50 # \n",
    "#-----------------------------------------------\n",
    "#-----------------------------------------------\n",
    "num_classes = 2\n",
    "img_rows, img_cols = image_size, image_size\n",
    "input_shape = (img_rows, img_cols,3)# 3 duidt het aantal kleurkanalen aan\n",
    "\n",
    "adam = tf.keras.optimizers.Adam(learning_rate=0.0001)\n",
    "# Model\n",
    "model = Sequential()\n",
    "#-----------------------------------------------\n",
    "#-----------------------------------------------\n",
    "model.add(Conv2D(32, kernel_size=(3, 3), activation='relu',input_shape=input_shape)) \n",
    "#-----------------------------------------------\n",
    "#-----------------------------------------------\n",
    "model.add(MaxPooling2D(pool_size=(2, 2)))\n",
    "#-----------------------------------------------\n",
    "#-----------------------------------------------\n",
    "model.add(Dropout(0.3)) # Value between 0 and 1 \n",
    "# model.add(BatchNormalisation())# Altijd achter de dropout\n",
    "#-----------------------------------------------\n",
    "model.add(Conv2D(100, (3, 3), activation='relu')) \n",
    "#-----------------------------------------------\n",
    "#-----------------------------------------------\n",
    "model.add(MaxPooling2D(pool_size=(2, 2)))\n",
    "#-----------------------------------------------\n",
    "#-----------------------------------------------\n",
    "model.add(Dropout(0.3)) # Value between 0 and 1 \n",
    "#-----------------------------------------------\n",
    "#-----------------------------------------------\n",
    "model.add(Flatten()) # Zeer belangrijk: van 2D naar 1D\n",
    "model.add(Dense(50, activation='relu')) \n",
    "#-----------------------------------------------\n",
    "#-----------------------------------------------\n",
    "model.add(Dropout(0.3)) # Value between 0 and 1 \n",
    "#-----------------------------------------------\n",
    "#-----------------------------------------------\n",
    "model.add(Dense(num_classes, activation='sigmoid'))\n",
    "\n",
    "model.compile(loss='binary_crossentropy',optimizer='adam',metrics=['accuracy'])\n",
    "\n",
    "earlystopper = EarlyStopping(patience=5, verbose=1)\n",
    "checkpointer = ModelCheckpoint('NN_bottles_aug.h5', verbose=1, save_best_only=True)\n",
    "\n",
    "# image augmentation\n",
    "from tensorflow.keras.preprocessing.image import ImageDataGenerator\n",
    "\n",
    "aug = ImageDataGenerator(rotation_range = 20, zoom_range = 0.15, width_shift_range = 0.2, \n",
    "                         height_shift_range = 0.2, shear_range = 0.15, horizontal_flip = True, \n",
    "                         fill_mode = 'nearest')\n",
    "\n",
    "\n",
    "# Trainen van het CNN\n",
    "history_aug = model.fit_generator(aug.flow(X_train, y_train, batch_size=batch_size),\n",
    "                                  steps_per_epoch=len(X_train) // batch_size,callbacks=[earlystopper, mc],class_weight=class_weight, epochs=epochs)"
   ]
  },
  {
   "cell_type": "code",
   "execution_count": 11,
   "metadata": {},
   "outputs": [
    {
     "ename": "KeyError",
     "evalue": "'val_accuracy'",
     "output_type": "error",
     "traceback": [
      "\u001b[0;31m---------------------------------------------------------------------------\u001b[0m",
      "\u001b[0;31mKeyError\u001b[0m                                  Traceback (most recent call last)",
      "\u001b[0;32m<ipython-input-11-31b867abac11>\u001b[0m in \u001b[0;36m<module>\u001b[0;34m\u001b[0m\n\u001b[1;32m      3\u001b[0m \u001b[0;31m# Accuray\u001b[0m\u001b[0;34m\u001b[0m\u001b[0;34m\u001b[0m\u001b[0;34m\u001b[0m\u001b[0m\n\u001b[1;32m      4\u001b[0m \u001b[0mplt\u001b[0m\u001b[0;34m.\u001b[0m\u001b[0mplot\u001b[0m\u001b[0;34m(\u001b[0m\u001b[0mhistory_aug\u001b[0m\u001b[0;34m.\u001b[0m\u001b[0mhistory\u001b[0m\u001b[0;34m[\u001b[0m\u001b[0;34m'accuracy'\u001b[0m\u001b[0;34m]\u001b[0m\u001b[0;34m,\u001b[0m\u001b[0;34m'r'\u001b[0m\u001b[0;34m)\u001b[0m\u001b[0;34m\u001b[0m\u001b[0;34m\u001b[0m\u001b[0m\n\u001b[0;32m----> 5\u001b[0;31m \u001b[0mplt\u001b[0m\u001b[0;34m.\u001b[0m\u001b[0mplot\u001b[0m\u001b[0;34m(\u001b[0m\u001b[0mhistory_aug\u001b[0m\u001b[0;34m.\u001b[0m\u001b[0mhistory\u001b[0m\u001b[0;34m[\u001b[0m\u001b[0;34m'val_accuracy'\u001b[0m\u001b[0;34m]\u001b[0m\u001b[0;34m,\u001b[0m\u001b[0;34m'b'\u001b[0m\u001b[0;34m)\u001b[0m\u001b[0;34m\u001b[0m\u001b[0;34m\u001b[0m\u001b[0m\n\u001b[0m\u001b[1;32m      6\u001b[0m \u001b[0mplt\u001b[0m\u001b[0;34m.\u001b[0m\u001b[0mtitle\u001b[0m\u001b[0;34m(\u001b[0m\u001b[0;34m'model accuracy'\u001b[0m\u001b[0;34m)\u001b[0m\u001b[0;34m\u001b[0m\u001b[0;34m\u001b[0m\u001b[0m\n\u001b[1;32m      7\u001b[0m \u001b[0mplt\u001b[0m\u001b[0;34m.\u001b[0m\u001b[0mylabel\u001b[0m\u001b[0;34m(\u001b[0m\u001b[0;34m'accuracy'\u001b[0m\u001b[0;34m)\u001b[0m\u001b[0;34m\u001b[0m\u001b[0;34m\u001b[0m\u001b[0m\n",
      "\u001b[0;31mKeyError\u001b[0m: 'val_accuracy'"
     ]
    },
    {
     "data": {
      "image/png": "[encoded data removed]",
      "text/plain": [
       "<Figure size 432x288 with 1 Axes>"
      ]
     },
     "metadata": {
      "needs_background": "light"
     },
     "output_type": "display_data"
    }
   ],
   "source": [
    "# Plot of the training history\n",
    "\n",
    "# Accuray \n",
    "plt.plot(history_aug.history['accuracy'],'r')\n",
    "plt.plot(history_aug.history['val_accuracy'],'b')\n",
    "plt.title('model accuracy')\n",
    "plt.ylabel('accuracy')\n",
    "plt.xlabel('epoch')\n",
    "plt.legend(['train', 'test'], loc='upper left')\n",
    "plt.show()\n",
    "# Loss \n",
    "plt.plot(history.history['loss'],'r')\n",
    "plt.plot(history.history['val_loss'],'b')\n",
    "\n",
    "plt.title('model loss')\n",
    "plt.ylabel('loss')\n",
    "plt.xlabel('epoch')\n",
    "plt.legend(['train', 'test'], loc='upper left')\n",
    "plt.show()"
   ]
  },
  {
   "cell_type": "code",
   "execution_count": 12,
   "metadata": {},
   "outputs": [
    {
     "name": "stdout",
     "output_type": "stream",
     "text": [
      "\n",
      "\n",
      "              precision    recall  f1-score   support\n",
      "\n",
      "           0       1.00      1.00      1.00       100\n",
      "           1       1.00      1.00      1.00       100\n",
      "\n",
      "    accuracy                           1.00       200\n",
      "   macro avg       1.00      1.00      1.00       200\n",
      "weighted avg       1.00      1.00      1.00       200\n",
      "\n",
      "[[100   0]\n",
      " [  0 100]]\n",
      "100.0\n"
     ]
    }
   ],
   "source": [
    "# accuracy\n",
    "y_pred = model.predict_classes(X_test)\n",
    "print('\\n')\n",
    "print(classification_report(y_test, y_pred))\n",
    "cf = confusion_matrix(y_test, y_pred)\n",
    "\n",
    "print(cf)\n",
    "print(accuracy_score(y_test, y_pred)*100)"
   ]
  },
  {
   "cell_type": "code",
   "execution_count": 13,
   "metadata": {},
   "outputs": [
    {
     "name": "stdout",
     "output_type": "stream",
     "text": [
      "WARNING:tensorflow:From /home/sslab/anaconda3/lib/python3.7/site-packages/tensorflow_core/python/ops/resource_variable_ops.py:1781: calling BaseResourceVariable.__init__ (from tensorflow.python.ops.resource_variable_ops) with constraint is deprecated and will be removed in a future version.\n",
      "Instructions for updating:\n",
      "If using Keras pass *_constraint arguments to layers.\n",
      "INFO:tensorflow:Assets written to: ./models/bottlesV1aug.tflearn/assets\n"
     ]
    }
   ],
   "source": [
    "model.save('./models/bottlesV1aug.tflearn')\n"
   ]
  },
  {
   "cell_type": "code",
   "execution_count": 2,
   "metadata": {},
   "outputs": [
    {
     "name": "stdout",
     "output_type": "stream",
     "text": [
      "WARNING:tensorflow:Inconsistent references when loading the checkpoint into this object graph. Either the Trackable object references in the Python program have changed in an incompatible way, or the checkpoint was generated in an incompatible program.\n",
      "\n",
      "Two checkpoint references resolved to different objects (<tensorflow.python.keras.layers.convolutional.Conv2D object at 0x0000015AC99AF548> and <tensorflow.python.keras.layers.pooling.MaxPooling2D object at 0x0000015AD8B560C8>).\n",
      "WARNING:tensorflow:Inconsistent references when loading the checkpoint into this object graph. Either the Trackable object references in the Python program have changed in an incompatible way, or the checkpoint was generated in an incompatible program.\n",
      "\n",
      "Two checkpoint references resolved to different objects (<tensorflow.python.keras.layers.convolutional.Conv2D object at 0x0000015AD8B5D848> and <tensorflow.python.keras.layers.pooling.MaxPooling2D object at 0x0000015AD8B60E48>).\n",
      "WARNING:tensorflow:Inconsistent references when loading the checkpoint into this object graph. Either the Trackable object references in the Python program have changed in an incompatible way, or the checkpoint was generated in an incompatible program.\n",
      "\n",
      "Two checkpoint references resolved to different objects (<tensorflow.python.keras.layers.core.Dense object at 0x0000015AD8B66D48> and <tensorflow.python.keras.layers.core.Dropout object at 0x0000015AD8B6BE08>).\n",
      "WARNING:tensorflow:Inconsistent references when loading the checkpoint into this object graph. Either the Trackable object references in the Python program have changed in an incompatible way, or the checkpoint was generated in an incompatible program.\n",
      "\n",
      "Two checkpoint references resolved to different objects (<tensorflow.python.keras.layers.core.Dropout object at 0x0000015AD8B56948> and <tensorflow.python.keras.layers.pooling.MaxPooling2D object at 0x0000015AD8B560C8>).\n",
      "WARNING:tensorflow:Inconsistent references when loading the checkpoint into this object graph. Either the Trackable object references in the Python program have changed in an incompatible way, or the checkpoint was generated in an incompatible program.\n",
      "\n",
      "Two checkpoint references resolved to different objects (<tensorflow.python.keras.layers.convolutional.Conv2D object at 0x0000015AD8B5D848> and <tensorflow.python.keras.layers.core.Dropout object at 0x0000015AD8B56948>).\n",
      "WARNING:tensorflow:Inconsistent references when loading the checkpoint into this object graph. Either the Trackable object references in the Python program have changed in an incompatible way, or the checkpoint was generated in an incompatible program.\n",
      "\n",
      "Two checkpoint references resolved to different objects (<tensorflow.python.keras.layers.core.Dropout object at 0x0000015AD8B64748> and <tensorflow.python.keras.layers.pooling.MaxPooling2D object at 0x0000015AD8B60E48>).\n",
      "WARNING:tensorflow:Inconsistent references when loading the checkpoint into this object graph. Either the Trackable object references in the Python program have changed in an incompatible way, or the checkpoint was generated in an incompatible program.\n",
      "\n",
      "Two checkpoint references resolved to different objects (<tensorflow.python.keras.layers.core.Flatten object at 0x0000015AD8B66148> and <tensorflow.python.keras.layers.core.Dropout object at 0x0000015AD8B64748>).\n",
      "WARNING:tensorflow:Inconsistent references when loading the checkpoint into this object graph. Either the Trackable object references in the Python program have changed in an incompatible way, or the checkpoint was generated in an incompatible program.\n",
      "\n",
      "Two checkpoint references resolved to different objects (<tensorflow.python.keras.layers.core.Dense object at 0x0000015AD8B66D48> and <tensorflow.python.keras.layers.core.Flatten object at 0x0000015AD8B66148>).\n",
      "WARNING:tensorflow:Inconsistent references when loading the checkpoint into this object graph. Either the Trackable object references in the Python program have changed in an incompatible way, or the checkpoint was generated in an incompatible program.\n",
      "\n",
      "Two checkpoint references resolved to different objects (<tensorflow.python.keras.layers.core.Dense object at 0x0000015AD8B6DA08> and <tensorflow.python.keras.layers.core.Dropout object at 0x0000015AD8B6BE08>).\n"
     ]
    }
   ],
   "source": [
    "model = tf.keras.models.load_model('./models/bottlesV1.tflearn')"
   ]
  },
  {
   "cell_type": "code",
   "execution_count": 3,
   "metadata": {},
   "outputs": [],
   "source": [
    "import cv2"
   ]
  },
  {
   "cell_type": "code",
   "execution_count": 4,
   "metadata": {},
   "outputs": [],
   "source": [
    "model.save('bottles.h5')"
   ]
  },
  {
   "cell_type": "code",
   "execution_count": 5,
   "metadata": {},
   "outputs": [],
   "source": [
    "model = tf.keras.models.load_model('bottles.h5')"
   ]
  },
  {
   "cell_type": "code",
   "execution_count": 6,
   "metadata": {
    "scrolled": true
   },
   "outputs": [
    {
     "name": "stdout",
     "output_type": "stream",
     "text": [
      "background\n",
      "can\n",
      "can\n",
      "can\n",
      "can\n",
      "can\n",
      "background\n",
      "can\n",
      "can\n",
      "can\n"
     ]
    }
   ],
   "source": [
    "for i in range(10):\n",
    "    image=cv2.imread('D:/Documenten7/Semester5/Researchproject/research-project/Camera_research/timelapse/images-timelapse/image{0}.jpg'.format(i))\n",
    "    image_from_array = Image.fromarray(image, 'RGB')\n",
    "    size_image = image_from_array.resize((100,100))\n",
    "    p = np.expand_dims(size_image, 0)\n",
    "    img = tf.cast(p, tf.float32)\n",
    "    print(['can','background'][np.argmax(model.predict(img))])"
   ]
  },
  {
   "cell_type": "code",
   "execution_count": 17,
   "metadata": {},
   "outputs": [
    {
     "name": "stdout",
     "output_type": "stream",
     "text": [
      "Model: \"sequential_3\"\n",
      "_________________________________________________________________\n",
      "Layer (type)                 Output Shape              Param #   \n",
      "=================================================================\n",
      "conv2d_6 (Conv2D)            (None, 98, 98, 32)        896       \n",
      "_________________________________________________________________\n",
      "max_pooling2d_6 (MaxPooling2 (None, 49, 49, 32)        0         \n",
      "_________________________________________________________________\n",
      "dropout_9 (Dropout)          (None, 49, 49, 32)        0         \n",
      "_________________________________________________________________\n",
      "conv2d_7 (Conv2D)            (None, 47, 47, 100)       28900     \n",
      "_________________________________________________________________\n",
      "max_pooling2d_7 (MaxPooling2 (None, 23, 23, 100)       0         \n",
      "_________________________________________________________________\n",
      "dropout_10 (Dropout)         (None, 23, 23, 100)       0         \n",
      "_________________________________________________________________\n",
      "flatten_3 (Flatten)          (None, 52900)             0         \n",
      "_________________________________________________________________\n",
      "dense_6 (Dense)              (None, 50)                2645050   \n",
      "_________________________________________________________________\n",
      "dropout_11 (Dropout)         (None, 50)                0         \n",
      "_________________________________________________________________\n",
      "dense_7 (Dense)              (None, 2)                 102       \n",
      "=================================================================\n",
      "Total params: 2,674,948\n",
      "Trainable params: 2,674,948\n",
      "Non-trainable params: 0\n",
      "_________________________________________________________________\n",
      "background\n",
      "background\n",
      "background\n",
      "background\n",
      "background\n",
      "background\n",
      "background\n",
      "background\n",
      "background\n",
      "background\n"
     ]
    }
   ],
   "source": [
    "model.summary()\n",
    "for i in range(10):\n",
    "    image=cv2.imread('/home/pi/Documents/research-project/Camera_research/timelapse/images-timelapse/' + 'image{0}.jpg'.format(i))\n",
    "    image_from_array = Image.fromarray(image, 'RGB')\n",
    "    size_image = image_from_array.resize((100,100))\n",
    "    p = np.expand_dims(size_image, 0)\n",
    "    img = tf.cast(p, tf.float32)\n",
    "    print(['can','background'][np.argmax(model.predict(img, steps=1))])"
   ]
  },
  {
   "cell_type": "code",
   "execution_count": 20,
   "metadata": {},
   "outputs": [
    {
     "name": "stdout",
     "output_type": "stream",
     "text": [
      "background\n"
     ]
    }
   ],
   "source": [
    "image=cv2.imread('./test_images/grass.jpg')\n",
    "image_from_array = Image.fromarray(image, 'RGB')\n",
    "size_image = image_from_array.resize((100,100))\n",
    "p = np.expand_dims(size_image, 0)\n",
    "img = tf.cast(p, tf.float32)\n",
    "print(['background','can'][np.argmax(model.predict(img))])"
   ]
  },
  {
   "cell_type": "code",
   "execution_count": 21,
   "metadata": {},
   "outputs": [
    {
     "name": "stdout",
     "output_type": "stream",
     "text": [
      "background\n"
     ]
    }
   ],
   "source": [
    "image=cv2.imread('./test_images/gras2.jpg')\n",
    "image_from_array = Image.fromarray(image, 'RGB')\n",
    "size_image = image_from_array.resize((100,100))\n",
    "p = np.expand_dims(size_image, 0)\n",
    "img = tf.cast(p, tf.float32)\n",
    "print(['background','can'][np.argmax(model.predict(img))])"
   ]
  },
  {
   "cell_type": "code",
   "execution_count": 22,
   "metadata": {},
   "outputs": [
    {
     "name": "stdout",
     "output_type": "stream",
     "text": [
      "can\n"
     ]
    }
   ],
   "source": [
    "image=cv2.imread('./test_images/asfalt.jpg')\n",
    "image_from_array = Image.fromarray(image, 'RGB')\n",
    "size_image = image_from_array.resize((100,100))\n",
    "p = np.expand_dims(size_image, 0)\n",
    "img = tf.cast(p, tf.float32)\n",
    "print(['background','can'][np.argmax(model.predict(img))])"
   ]
  },
  {
   "cell_type": "code",
   "execution_count": null,
   "metadata": {},
   "outputs": [],
   "source": []
  },
  {
   "cell_type": "code",
   "execution_count": null,
   "metadata": {},
   "outputs": [],
   "source": []
  },
  {
   "cell_type": "code",
   "execution_count": null,
   "metadata": {},
   "outputs": [],
   "source": []
  },
  {
   "cell_type": "code",
   "execution_count": 1,
   "metadata": {
    "scrolled": true
   },
   "outputs": [
    {
     "name": "stderr",
     "output_type": "stream",
     "text": [
      "Using TensorFlow backend.\n"
     ]
    },
    {
     "name": "stdout",
     "output_type": "stream",
     "text": [
      "WARNING:tensorflow:From /home/pi/.local/lib/python3.7/site-packages/keras/backend/tensorflow_backend.py:68: The name tf.get_default_graph is deprecated. Please use tf.compat.v1.get_default_graph instead.\n",
      "\n",
      "WARNING:tensorflow:From /home/pi/.local/lib/python3.7/site-packages/keras/backend/tensorflow_backend.py:507: The name tf.placeholder is deprecated. Please use tf.compat.v1.placeholder instead.\n",
      "\n",
      "WARNING:tensorflow:From /home/pi/.local/lib/python3.7/site-packages/keras/backend/tensorflow_backend.py:3831: The name tf.random_uniform is deprecated. Please use tf.random.uniform instead.\n",
      "\n",
      "WARNING:tensorflow:From /home/pi/.local/lib/python3.7/site-packages/keras/backend/tensorflow_backend.py:3655: The name tf.nn.max_pool is deprecated. Please use tf.nn.max_pool2d instead.\n",
      "\n",
      "Downloading data from https://github.com/fchollet/deep-learning-models/releases/download/v0.1/vgg19_weights_tf_dim_ordering_tf_kernels.h5\n",
      "574717952/574710816 [==============================] - 326s 1us/step\n",
      "WARNING:tensorflow:From /home/pi/.local/lib/python3.7/site-packages/keras/backend/tensorflow_backend.py:167: The name tf.get_default_session is deprecated. Please use tf.compat.v1.get_default_session instead.\n",
      "\n",
      "WARNING:tensorflow:From /home/pi/.local/lib/python3.7/site-packages/keras/backend/tensorflow_backend.py:174: The name tf.ConfigProto is deprecated. Please use tf.compat.v1.ConfigProto instead.\n",
      "\n",
      "WARNING:tensorflow:From /home/pi/.local/lib/python3.7/site-packages/keras/backend/tensorflow_backend.py:179: The name tf.Session is deprecated. Please use tf.compat.v1.Session instead.\n",
      "\n",
      "WARNING:tensorflow:From /home/pi/.local/lib/python3.7/site-packages/keras/backend/tensorflow_backend.py:183: The name tf.global_variables is deprecated. Please use tf.compat.v1.global_variables instead.\n",
      "\n",
      "WARNING:tensorflow:From /home/pi/.local/lib/python3.7/site-packages/keras/backend/tensorflow_backend.py:192: The name tf.is_variable_initialized is deprecated. Please use tf.compat.v1.is_variable_initialized instead.\n",
      "\n",
      "WARNING:tensorflow:From /home/pi/.local/lib/python3.7/site-packages/keras/backend/tensorflow_backend.py:199: The name tf.variables_initializer is deprecated. Please use tf.compat.v1.variables_initializer instead.\n",
      "\n",
      "Downloading data from https://s3.amazonaws.com/deep-learning-models/image-models/imagenet_class_index.json\n",
      "40960/35363 [==================================] - 0s 3us/step\n",
      "water_bottle (26.29%)\n"
     ]
    }
   ],
   "source": [
    "from keras.preprocessing.image import load_img\n",
    "from keras.preprocessing.image import img_to_array\n",
    "from keras.applications.vgg19 import preprocess_input\n",
    "from keras.applications.vgg19 import decode_predictions\n",
    "from keras.applications.vgg19 import VGG19\n",
    "# load the model\n",
    "model = VGG19()\n",
    "# load an image from file\n",
    "image = load_img('/home/pi/Documents/research-project/Camera_research/timelapse/images-timelapse/image5.jpg', target_size=(224, 224))\n",
    "# convert the image pixels to a numpy array\n",
    "image = img_to_array(image)\n",
    "# reshape data for the model\n",
    "image = image.reshape((1, image.shape[0], image.shape[1], image.shape[2]))\n",
    "# prepare the image for the VGG model\n",
    "image = preprocess_input(image)\n",
    "# predict the probability across all output classes\n",
    "yhat = model.predict(image)\n",
    "# convert the probabilities to class labels\n",
    "label = decode_predictions(yhat)\n",
    "# retrieve the most likely result, e.g. highest probability\n",
    "label = label[0][0]\n",
    "# print the classification\n",
    "print('%s (%.2f%%)' % (label[1], label[2]*100))"
   ]
  },
  {
   "cell_type": "code",
   "execution_count": null,
   "metadata": {},
   "outputs": [],
   "source": []
  }
 ],
 "metadata": {
  "kernelspec": {
   "display_name": "Python 3",
   "language": "python",
   "name": "python3"
  },
  "language_info": {
   "codemirror_mode": {
    "name": "ipython",
    "version": 3
   },
   "file_extension": ".py",
   "mimetype": "text/x-python",
   "name": "python",
   "nbconvert_exporter": "python",
   "pygments_lexer": "ipython3",
   "version": "3.7.3"
  }
 },
 "nbformat": 4,
 "nbformat_minor": 4
}
